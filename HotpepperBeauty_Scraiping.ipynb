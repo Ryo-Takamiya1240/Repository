'''
ホットペッパービューティーのサロン検索欄に「バーバー」というワードを入れて、
検索結果から「サロン名」「住所」「セット面数」をExcelに抽出するスクレイピングのコードです。
'''



import requests
from bs4 import  BeautifulSoup
import openpyxl

#全てのページのURLを定義
urlls=[]

urls='https://beauty.hotpepper.jp/CSP/bt/freewordSearch/?freeword=バーバー&search=検索する&smcPriceFrom=&smcPriceTo=&fwMiddleAreaCd=&serviceAreaCd=&searchMenuCategoryCd=&smcPriceFrom=&smcPriceTo=&searchGender=ALL'

r= requests.get(urls)
soup = BeautifulSoup(r.text, "lxml")

#検索件数、ページ数の定義
page_num=soup.find('span',class_="numberOfResult").text
page_num=int(page_num)
page_num=-(-page_num//20)+1

#ページURL生成
for i in range (1,page_num):
    urls='https://beauty.hotpepper.jp/CSP/bt/freewordSearch/?freeword=%E3%83%90%E3%83%BC%E3%83%90%E3%83%BC&searchGender=ALL&pn={}'.format(i)
    urlls.append(urls)

#リスト定義
ls_hpb_name=['サロン名']
ls_hpb2=['住所']
ls_hpb2_addr=[]
ls_hpb3=['セット面数']

#出力ファイル設定
wb = openpyxl.Workbook()
sheet = wb.active
sheet .title = "スクレイピング結果"

#カラムタイトル
sheet['A1'].value='サロン名'
sheet['B1'].value='住所'
sheet['C1'].value='セット面数'

cnt1=2
cnt2=2
cnt3=2

#URL取り出しの用意、一つずつ変数に格納
for i in range(page_num-1):
    r = requests.get(urlls[i])

# パースする
    soup = BeautifulSoup(r.text, "html.parser")

#サロン名抽出
    for i in soup.find_all('h3',class_="slnName"):
        hpb_name=i.find('a')
        sel1='A'+str(cnt1)
        sheet[sel1].value=hpb_name.text
        cnt1+=1

#住所記載URLの抽出
        for i2 in i.find_all('a'):
            hpb2_url=i2.get('href')
            ls_hpb2_addr.append(hpb2_url)

#セット面数抽出
    for i3 in soup.find_all('dd',class_='seat'):
        value=i3.text.strip()
        sel2='C'+str(cnt2)
        sheet[sel2].value=value
        cnt2+=1

#住所の抽出
for i4 in range(len(ls_hpb2_addr)):
    rr= requests.get(ls_hpb2_addr[i4])

# パースする
    soup2 = BeautifulSoup(rr.text, "html.parser")
    ul_value=soup2.find('ul',class_="fs10")
    li_value=ul_value.find('li').text
    sel3='B'+str(cnt3)
    sheet[sel3].value=li_value
    cnt3+=1


wb.save("HPBtext.xlsx")
wb.close()
